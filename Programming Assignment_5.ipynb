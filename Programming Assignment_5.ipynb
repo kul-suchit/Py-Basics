{
 "cells": [
  {
   "cell_type": "markdown",
   "metadata": {},
   "source": [
    "1. Write a Python Program to Find LCM?\n",
    "2. Write a Python Program to Find HCF?\n",
    "3. Write a Python Program to Convert Decimal to Binary, Octal and Hexadecimal?\n",
    "4. Write a Python Program To Find ASCII value of a character?\n",
    "5. Write a Python Program to Make a Simple Calculator with 4 basic mathematical operations?"
   ]
  },
  {
   "cell_type": "markdown",
   "metadata": {},
   "source": [
    "Write a Python Program to Find LCM?"
   ]
  },
  {
   "cell_type": "code",
   "execution_count": 47,
   "metadata": {
    "collapsed": true
   },
   "outputs": [],
   "source": [
    "def isprime(a):\n",
    "    if a == 2:\n",
    "        return True\n",
    "    else:\n",
    "        for i in range(2, int(a/2)+1):\n",
    "            if a % i == 0:\n",
    "                return False\n",
    "                break\n",
    "            elif i == int(a/2):\n",
    "                return True\n",
    "            else:\n",
    "                continue\n",
    "                \n",
    "def get_lcm(m,n):\n",
    "    fac = 1\n",
    "    (a,b) = (m,n)\n",
    "    if isprime(a) and isprime(b):\n",
    "        lcm = a * b\n",
    "    else:\n",
    "        for i in range(2, int(max(m,n)/2)):\n",
    "            if isprime(i):\n",
    "                if a%i==0 and b%i==0:\n",
    "                    while (a%i==0 and b%i==0) == True :\n",
    "                        fac = fac*i\n",
    "                        a = int(a/i)\n",
    "                        b = int(b/i)\n",
    "            else:\n",
    "                continue\n",
    "            lcm = fac*a*b \n",
    "    return lcm\n",
    "\n"
   ]
  },
  {
   "cell_type": "markdown",
   "metadata": {},
   "source": [
    "Write a Python Program to Find HCF?"
   ]
  },
  {
   "cell_type": "code",
   "execution_count": 51,
   "metadata": {},
   "outputs": [],
   "source": [
    "def get_hcf(m,n):\n",
    "    hcf = m*n/get_lcm(m,n)\n",
    "    return int(hcf)"
   ]
  },
  {
   "cell_type": "markdown",
   "metadata": {},
   "source": [
    "Write a Python Program to Convert Decimal to Binary, Octal and Hexadecimal?"
   ]
  },
  {
   "cell_type": "code",
   "execution_count": 77,
   "metadata": {},
   "outputs": [],
   "source": [
    "def dec_to_bin(dec):\n",
    "    bi = ''\n",
    "    while dec>=1:\n",
    "        bi = str(bi) + str(dec%2)\n",
    "        dec = int(dec/2)\n",
    "    return int(bi[::-1])\n",
    "\n",
    "def dec_to_oct(dec):\n",
    "    oc = ''\n",
    "    while dec>=1:\n",
    "        oc = str(oc) + str(dec%8)\n",
    "        dec = int(dec/8)\n",
    "    return int(oc[::-1])\n",
    "\n",
    "def dec_to_hex(dec):\n",
    "    hexa = ''\n",
    "    while dec>=1:\n",
    "        hexa = str(hexa) + str(dec%16)\n",
    "        dec = int(dec/16)\n",
    "    return int(hexa[::-1])\n",
    "\n",
    "\n"
   ]
  },
  {
   "cell_type": "markdown",
   "metadata": {},
   "source": [
    "Write a Python Program To Find ASCII value of a character?"
   ]
  },
  {
   "cell_type": "code",
   "execution_count": 81,
   "metadata": {},
   "outputs": [
    {
     "name": "stdout",
     "output_type": "stream",
     "text": [
      "enter a character: 1\n",
      "49\n"
     ]
    }
   ],
   "source": [
    "a = input('enter a character: ')\n",
    "print(ord(a))"
   ]
  },
  {
   "cell_type": "markdown",
   "metadata": {},
   "source": [
    "Write a Python Program to Make a Simple Calculator with 4 basic mathematical operations?"
   ]
  },
  {
   "cell_type": "code",
   "execution_count": null,
   "metadata": {
    "collapsed": true
   },
   "outputs": [],
   "source": [
    "(a,b) = input('enter 2 numbers: ')\n",
    "op = input('enter the operator: ')\n",
    "\n",
    "def calculator(a,b,op):\n",
    "    if op == \"+\":\n",
    "        return a+b\n",
    "    elif op == \"-\":\n",
    "        return a-b\n",
    "    elif op==\"*\":\n",
    "        return a*b\n",
    "    elif op=='/':\n",
    "    return a/b\n",
    "else:\n",
    "    print('enter valid operator')"
   ]
  }
 ],
 "metadata": {
  "kernelspec": {
   "display_name": "Python [default]",
   "language": "python",
   "name": "python3"
  },
  "language_info": {
   "codemirror_mode": {
    "name": "ipython",
    "version": 3
   },
   "file_extension": ".py",
   "mimetype": "text/x-python",
   "name": "python",
   "nbconvert_exporter": "python",
   "pygments_lexer": "ipython3",
   "version": "3.5.3"
  }
 },
 "nbformat": 4,
 "nbformat_minor": 2
}
