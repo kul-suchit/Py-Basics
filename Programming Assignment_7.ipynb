{
 "cells": [
  {
   "cell_type": "markdown",
   "id": "aec4d448",
   "metadata": {},
   "source": [
    "1. Write a Python Program to find sum of array?\n",
    "2. Write a Python Program to find largest element in an array?\n",
    "3. Write a Python Program for array rotation?\n",
    "4. Write a Python Program to Split the array and add the first part to the end?\n",
    "5. Write a Python Program to check if given array is Monotonic?"
   ]
  },
  {
   "cell_type": "markdown",
   "id": "7e5c736e",
   "metadata": {},
   "source": [
    "Write a Python Program to find sum of array?"
   ]
  },
  {
   "cell_type": "code",
   "execution_count": 38,
   "id": "702016c7",
   "metadata": {},
   "outputs": [
    {
     "name": "stdout",
     "output_type": "stream",
     "text": [
      "28\n"
     ]
    }
   ],
   "source": [
    "from array import *\n",
    "\n",
    "ar1 = array('i', [1,2,3,4,5,6,7])\n",
    "sum=0\n",
    "for i in ar1:\n",
    "    sum = sum+i\n",
    "print(sum)"
   ]
  },
  {
   "cell_type": "markdown",
   "id": "be424e04",
   "metadata": {},
   "source": [
    "Write a Python Program to find largest element in an array?"
   ]
  },
  {
   "cell_type": "code",
   "execution_count": 39,
   "id": "2d43449a",
   "metadata": {},
   "outputs": [],
   "source": [
    "max =0\n",
    "for i in ar1:\n",
    "    if i>max:\n",
    "        max=i\n",
    "    else:\n",
    "        continue"
   ]
  },
  {
   "cell_type": "code",
   "execution_count": 40,
   "id": "0a7a2c5a",
   "metadata": {},
   "outputs": [
    {
     "name": "stdout",
     "output_type": "stream",
     "text": [
      "7\n"
     ]
    }
   ],
   "source": [
    "print(max)"
   ]
  },
  {
   "cell_type": "markdown",
   "id": "a7709d83",
   "metadata": {},
   "source": [
    "Write a Python Program for array rotation?"
   ]
  },
  {
   "cell_type": "code",
   "execution_count": 41,
   "id": "5ab12d76",
   "metadata": {},
   "outputs": [
    {
     "data": {
      "text/plain": [
       "array('i', [1, 2, 3, 4, 5, 6, 7])"
      ]
     },
     "execution_count": 41,
     "metadata": {},
     "output_type": "execute_result"
    }
   ],
   "source": [
    "ar1"
   ]
  },
  {
   "cell_type": "code",
   "execution_count": 43,
   "id": "b7ad766f",
   "metadata": {},
   "outputs": [],
   "source": [
    "def arr_rotation(a, d):\n",
    "    temp = array('i')\n",
    "    n=len(a)\n",
    "    i = 0\n",
    "    while i<d:\n",
    "        temp.append(a[i])\n",
    "        i = i +1\n",
    "    \n",
    "    i = 0\n",
    "    while d<n:\n",
    "        a[i] = a[d]\n",
    "        i = i+1\n",
    "        d = d+1\n",
    "    a[:] = a[:i] + temp\n",
    "    return a"
   ]
  },
  {
   "cell_type": "code",
   "execution_count": 44,
   "id": "421bb634",
   "metadata": {},
   "outputs": [
    {
     "data": {
      "text/plain": [
       "array('i', [3, 4, 5, 6, 7, 1, 2])"
      ]
     },
     "execution_count": 44,
     "metadata": {},
     "output_type": "execute_result"
    }
   ],
   "source": [
    "arr_rotation(ar1, 2)"
   ]
  },
  {
   "cell_type": "markdown",
   "id": "fd99d3f6",
   "metadata": {},
   "source": [
    "Write a Python Program to Split the array and add the first part to the end?"
   ]
  },
  {
   "cell_type": "code",
   "execution_count": 46,
   "id": "09742739",
   "metadata": {},
   "outputs": [],
   "source": [
    "def arr_rotation(a, d):\n",
    "    temp = array('i')\n",
    "    n=len(a)\n",
    "    i = 0\n",
    "    while i<d:\n",
    "        temp.append(a[i])\n",
    "        i = i +1\n",
    "    \n",
    "    i = 0\n",
    "    while d<n:\n",
    "        a[i] = a[d]\n",
    "        i = i+1\n",
    "        d = d+1\n",
    "    a[:] = a[:i] + temp\n",
    "    return a"
   ]
  },
  {
   "cell_type": "markdown",
   "id": "7ab1cf20",
   "metadata": {},
   "source": [
    "Write a Python Program to check if given array is Monotonic?"
   ]
  },
  {
   "cell_type": "code",
   "execution_count": 62,
   "id": "c03d3e05",
   "metadata": {},
   "outputs": [],
   "source": [
    "ar2 = array('i', [1,1,5,4,5,6,7])"
   ]
  },
  {
   "cell_type": "code",
   "execution_count": 63,
   "id": "125f5842",
   "metadata": {},
   "outputs": [
    {
     "name": "stdout",
     "output_type": "stream",
     "text": [
      "array is not monotonic\n"
     ]
    }
   ],
   "source": [
    "i = 0\n",
    "flag = True\n",
    "while i+1 < len(ar2):\n",
    "    if ar2[i]<=ar2[i+1]:\n",
    "        flag = True\n",
    "        pass\n",
    "\n",
    "    else:\n",
    "        flag = False\n",
    "        break\n",
    "    i=i+1\n",
    "    #return 'array is monotonic'\n",
    "if flag == True:\n",
    "    print('array is monotonic')\n",
    "else:\n",
    "    print('array is not monotonic')"
   ]
  },
  {
   "cell_type": "code",
   "execution_count": null,
   "id": "2616075c",
   "metadata": {},
   "outputs": [],
   "source": []
  }
 ],
 "metadata": {
  "kernelspec": {
   "display_name": "Python 3 (ipykernel)",
   "language": "python",
   "name": "python3"
  },
  "language_info": {
   "codemirror_mode": {
    "name": "ipython",
    "version": 3
   },
   "file_extension": ".py",
   "mimetype": "text/x-python",
   "name": "python",
   "nbconvert_exporter": "python",
   "pygments_lexer": "ipython3",
   "version": "3.9.12"
  }
 },
 "nbformat": 4,
 "nbformat_minor": 5
}
