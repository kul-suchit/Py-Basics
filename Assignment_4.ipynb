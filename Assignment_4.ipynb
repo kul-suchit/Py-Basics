{
 "cells": [
  {
   "cell_type": "markdown",
   "id": "9a93cbfb",
   "metadata": {},
   "source": [
    "1. What exactly is []?\n",
    "2. In a list of values stored in a variable called spam, how would you assign the value &#39;hello&#39; as the\n",
    "third value? (Assume [2, 4, 6, 8, 10] are in spam.)\n",
    "Let&#39;s pretend the spam includes the list [&#39;a&#39;, &#39;b&#39;, &#39;c&#39;, &#39;d&#39;] for the next three queries.\n",
    "3. What is the value of spam[int(int(&#39;3&#39; * 2) / 11)]?\n",
    "4. What is the value of spam[-1]?\n",
    "5. What is the value of spam[:2]?\n",
    "Let&#39;s pretend bacon has the list [3.14, &#39;cat,&#39; 11, &#39;cat,&#39; True] for the next three questions.\n",
    "6. What is the value of bacon.index(&#39;cat&#39;)?\n",
    "7. How does bacon.append(99) change the look of the list value in bacon?\n",
    "8. How does bacon.remove(&#39;cat&#39;) change the look of the list in bacon?\n",
    "9. What are the list concatenation and list replication operators?\n",
    "10. What is difference between the list methods append() and insert()?\n",
    "11. What are the two methods for removing items from a list?\n",
    "12. Describe how list values and string values are identical.\n",
    "13. What&#39;s the difference between tuples and lists?\n",
    "14. How do you type a tuple value that only contains the integer 42?\n",
    "15. How do you get a list value&#39;s tuple form? How do you get a tuple value&#39;s list form?\n",
    "16. Variables that &quot;contain&quot; list values are not necessarily lists themselves. Instead, what do they\n",
    "contain?\n",
    "17. How do you distinguish between copy.copy() and copy.deepcopy()?"
   ]
  },
  {
   "cell_type": "markdown",
   "id": "93865954",
   "metadata": {},
   "source": [
    "1. What exactly is []?"
   ]
  },
  {
   "cell_type": "markdown",
   "id": "7dfbcfad",
   "metadata": {},
   "source": [
    "[] is an empty list"
   ]
  },
  {
   "cell_type": "markdown",
   "id": "3122996c",
   "metadata": {},
   "source": [
    "2. In a list of values stored in a variable called spam, how would you assign the value 'hello' as the third value? (Assume [2, 4, 6, 8, 10] are in spam.) Let's pretend the spam includes the list ['a', 'b', 'c', 'd'] for the next three queries."
   ]
  },
  {
   "cell_type": "markdown",
   "id": "ee16fb31",
   "metadata": {},
   "source": [
    "spam[2] = 'hello'"
   ]
  },
  {
   "cell_type": "markdown",
   "id": "70d4549d",
   "metadata": {},
   "source": [
    "3. What is the value of spam[int(int('3' * 2) / 11)]?"
   ]
  },
  {
   "cell_type": "markdown",
   "id": "d762f3a2",
   "metadata": {},
   "source": [
    "spam[int(int('3'*2)/11)] gives value 'd'"
   ]
  },
  {
   "cell_type": "markdown",
   "id": "cd0a65de",
   "metadata": {},
   "source": [
    "4. What is the value of spam[-1]?"
   ]
  },
  {
   "cell_type": "markdown",
   "id": "4a1d8a2a",
   "metadata": {},
   "source": [
    "spam[-1] gives value 'd'"
   ]
  },
  {
   "cell_type": "markdown",
   "id": "91ed356c",
   "metadata": {},
   "source": [
    "5. What is the value of spam[:2]? Let's pretend bacon has the list [3.14, 'cat,' 11, 'cat,' True] for the next three questions."
   ]
  },
  {
   "cell_type": "markdown",
   "id": "8168e9e7",
   "metadata": {},
   "source": [
    "spam[:2] gives ['a', 'b']"
   ]
  },
  {
   "cell_type": "code",
   "execution_count": 17,
   "id": "2c2e533a",
   "metadata": {},
   "outputs": [],
   "source": [
    "bacon = [3.14, 'cat', 11, 'cat', True]"
   ]
  },
  {
   "cell_type": "markdown",
   "id": "569dd8d7",
   "metadata": {},
   "source": [
    "6. What is the value of bacon.index('cat')?"
   ]
  },
  {
   "cell_type": "markdown",
   "id": "b5d3590b",
   "metadata": {},
   "source": [
    "bacon.index('cat') is 1 (since it takes the index where 'cat' first appears in the list)"
   ]
  },
  {
   "cell_type": "markdown",
   "id": "e04d2a82",
   "metadata": {},
   "source": [
    "7. How does bacon.append(99) change the look of the list value in bacon?"
   ]
  },
  {
   "cell_type": "markdown",
   "id": "14b72d68",
   "metadata": {},
   "source": [
    "bacon.append(99) gives [3.14, 'cat', 11, 'cat', True, 99]"
   ]
  },
  {
   "cell_type": "markdown",
   "id": "6d9e5c0a",
   "metadata": {},
   "source": [
    "8. How does bacon.remove('cat') change the look of the list in bacon?"
   ]
  },
  {
   "cell_type": "markdown",
   "id": "f105bd97",
   "metadata": {},
   "source": [
    "bacon.remove('cat') gives [3.14, 11, 'cat', True, 99] - removes first appearance of 'cat' in bacon"
   ]
  },
  {
   "cell_type": "markdown",
   "id": "0225faa5",
   "metadata": {},
   "source": [
    "9. What are the list concatenation and list replication operators?"
   ]
  },
  {
   "cell_type": "markdown",
   "id": "24474fc7",
   "metadata": {},
   "source": [
    "'+' is used for list concatenation and '*' is used for list replication"
   ]
  },
  {
   "cell_type": "markdown",
   "id": "30df40ef",
   "metadata": {},
   "source": [
    "10. What is difference between the list methods append() and insert()?"
   ]
  },
  {
   "cell_type": "markdown",
   "id": "8e20d5c7",
   "metadata": {},
   "source": [
    "append() is used to insert a value at the end of the existing list. insert() is used to insert a value before a mentioned index in the existing list"
   ]
  },
  {
   "cell_type": "markdown",
   "id": "508b8a9f",
   "metadata": {},
   "source": [
    "11. What are the two methods for removing items from a list?"
   ]
  },
  {
   "cell_type": "markdown",
   "id": "82ad74d6",
   "metadata": {},
   "source": [
    "list.remove() and list.pop() can be utilized to remove items from a list"
   ]
  },
  {
   "cell_type": "markdown",
   "id": "bcd37e53",
   "metadata": {},
   "source": [
    "12. Describe how list values and string values are identical."
   ]
  },
  {
   "cell_type": "markdown",
   "id": "5536e48d",
   "metadata": {},
   "source": [
    "Both list and string values can be used to iterate in a for loop"
   ]
  },
  {
   "cell_type": "markdown",
   "id": "c325a128",
   "metadata": {},
   "source": [
    "13. What's the difference between tuples and lists?"
   ]
  },
  {
   "cell_type": "markdown",
   "id": "7d41a900",
   "metadata": {},
   "source": [
    "- lists are mutable Vs tuples are immutable; - lists are enclosed within a pair of square brackets Vs tuples are enclosed within a pair of paranthesis; "
   ]
  },
  {
   "cell_type": "markdown",
   "id": "9bfb47e6",
   "metadata": {},
   "source": [
    "14. How do you type a tuple value that only contains the integer 42?"
   ]
  },
  {
   "cell_type": "markdown",
   "id": "8c3cc537",
   "metadata": {},
   "source": [
    "enclose the value (42 in this case) within paranthesis and add a comma after the 42. ex: a = (42, )"
   ]
  },
  {
   "cell_type": "markdown",
   "id": "98c4aff1",
   "metadata": {},
   "source": [
    "15. How do you get a list value's tuple form? How do you get a tuple value's list form?"
   ]
  },
  {
   "cell_type": "markdown",
   "id": "e375792b",
   "metadata": {},
   "source": [
    "use tuple(list) to get a list value's in tuple form and use list(tuple) to get tuple values in list form"
   ]
  },
  {
   "cell_type": "markdown",
   "id": "88770202",
   "metadata": {},
   "source": [
    "16. Variables that \"contain\" list values are not necessarily lists themselves. Instead, what do they contain?"
   ]
  },
  {
   "cell_type": "markdown",
   "id": "c7782f07",
   "metadata": {},
   "source": [
    "They contain references to the list"
   ]
  },
  {
   "cell_type": "markdown",
   "id": "a34973f2",
   "metadata": {},
   "source": [
    "17. How do you distinguish between copy.copy() and copy.deepcopy()?"
   ]
  },
  {
   "cell_type": "markdown",
   "id": "d740069d",
   "metadata": {},
   "source": [
    "copy.copy() - object contains reference to the original and changing copy.copy() object will make corresponding changes to the original object. copy.deepcopy() creates a copy of the original object and changing the copy will not make changes in the original"
   ]
  },
  {
   "cell_type": "code",
   "execution_count": null,
   "id": "079e4602",
   "metadata": {},
   "outputs": [],
   "source": []
  }
 ],
 "metadata": {
  "kernelspec": {
   "display_name": "Python 3 (ipykernel)",
   "language": "python",
   "name": "python3"
  },
  "language_info": {
   "codemirror_mode": {
    "name": "ipython",
    "version": 3
   },
   "file_extension": ".py",
   "mimetype": "text/x-python",
   "name": "python",
   "nbconvert_exporter": "python",
   "pygments_lexer": "ipython3",
   "version": "3.9.12"
  }
 },
 "nbformat": 4,
 "nbformat_minor": 5
}
