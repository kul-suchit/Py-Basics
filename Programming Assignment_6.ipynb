{
 "cells": [
  {
   "cell_type": "markdown",
   "id": "251105ef",
   "metadata": {},
   "source": [
    "1. Write a Python Program to Display Fibonacci Sequence Using Recursion?\n",
    "2. Write a Python Program to Find Factorial of Number Using Recursion?\n",
    "3. Write a Python Program to calculate your Body Mass Index?\n",
    "4. Write a Python Program to calculate the natural logarithm of any number?\n",
    "5. Write a Python Program for cube sum of first n natural numbers?"
   ]
  },
  {
   "cell_type": "markdown",
   "id": "0267e02f",
   "metadata": {},
   "source": [
    "Write a Python Program to Display Fibonacci Sequence Using Recursion?"
   ]
  },
  {
   "cell_type": "code",
   "execution_count": 6,
   "id": "b86a0ede",
   "metadata": {},
   "outputs": [
    {
     "name": "stdout",
     "output_type": "stream",
     "text": [
      "0\n",
      "1\n",
      "1\n",
      "2\n",
      "3\n",
      "5\n",
      "8\n",
      "13\n",
      "21\n",
      "34\n",
      "55\n",
      "89\n",
      "144\n",
      "233\n"
     ]
    }
   ],
   "source": [
    "def fib_rec(n):\n",
    "    if n<=1:\n",
    "        return n\n",
    "    else:\n",
    "        return (fib_rec(n-1)+fib_rec(n-2))\n",
    "    \n",
    "num = 14\n",
    "for i in range(num):\n",
    "    print(fib_rec(i))"
   ]
  },
  {
   "cell_type": "markdown",
   "id": "c8eacaaa",
   "metadata": {},
   "source": [
    "Write a Python Program to Find Factorial of Number Using Recursion?"
   ]
  },
  {
   "cell_type": "code",
   "execution_count": 13,
   "id": "02c96b6b",
   "metadata": {},
   "outputs": [],
   "source": [
    "def fac_rec(n):\n",
    "    if n<2:\n",
    "        return 'enter number > 1'\n",
    "    elif n>=2:\n",
    "        return n*fac_rec(n-1)\n",
    "    else:\n",
    "        return n\n",
    "    "
   ]
  },
  {
   "cell_type": "markdown",
   "id": "79898b1c",
   "metadata": {},
   "source": [
    "Write a Python Program to calculate your Body Mass Index?"
   ]
  },
  {
   "cell_type": "code",
   "execution_count": 15,
   "id": "cdd55733",
   "metadata": {},
   "outputs": [],
   "source": [
    "def bmi(w, h):\n",
    "    return w/(h**2)"
   ]
  },
  {
   "cell_type": "markdown",
   "id": "b9425c9e",
   "metadata": {},
   "source": [
    "Write a Python Program to calculate the natural logarithm of any number?"
   ]
  },
  {
   "cell_type": "code",
   "execution_count": 23,
   "id": "f9b34dc2",
   "metadata": {},
   "outputs": [
    {
     "name": "stdout",
     "output_type": "stream",
     "text": [
      "enter number:2\n",
      "0.6931471805599453\n"
     ]
    }
   ],
   "source": [
    "import math\n",
    "n = int(input('enter number:'))\n",
    "print(float(math.log(n)))"
   ]
  },
  {
   "cell_type": "markdown",
   "id": "449a3c4c",
   "metadata": {},
   "source": [
    "Write a Python Program for cube sum of first n natural numbers?"
   ]
  },
  {
   "cell_type": "code",
   "execution_count": 50,
   "id": "152dcd15",
   "metadata": {},
   "outputs": [
    {
     "data": {
      "text/plain": [
       "100"
      ]
     },
     "execution_count": 50,
     "metadata": {},
     "output_type": "execute_result"
    }
   ],
   "source": [
    "def cube_sum(n):\n",
    "    sum=0\n",
    "    for i in range(1,n+1):\n",
    "        sum= sum+i**3\n",
    "    return sum\n",
    "\n",
    "cube_sum(4)"
   ]
  }
 ],
 "metadata": {
  "kernelspec": {
   "display_name": "Python 3 (ipykernel)",
   "language": "python",
   "name": "python3"
  },
  "language_info": {
   "codemirror_mode": {
    "name": "ipython",
    "version": 3
   },
   "file_extension": ".py",
   "mimetype": "text/x-python",
   "name": "python",
   "nbconvert_exporter": "python",
   "pygments_lexer": "ipython3",
   "version": "3.9.12"
  }
 },
 "nbformat": 4,
 "nbformat_minor": 5
}
