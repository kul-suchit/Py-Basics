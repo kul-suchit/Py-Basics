{
 "cells": [
  {
   "cell_type": "markdown",
   "metadata": {},
   "source": [
    "1. Write a Python Program to Check if a Number is Positive, Negative or Zero?\n",
    "2. Write a Python Program to Check if a Number is Odd or Even?\n",
    "3. Write a Python Program to Check Leap Year?\n",
    "4. Write a Python Program to Check Prime Number?\n",
    "5. Write a Python Program to Print all Prime Numbers in an Interval of 1-10000?"
   ]
  },
  {
   "cell_type": "markdown",
   "metadata": {},
   "source": [
    "Write a Python Program to Check if a Number is Positive, Negative or Zero?"
   ]
  },
  {
   "cell_type": "code",
   "execution_count": 13,
   "metadata": {},
   "outputs": [
    {
     "name": "stdout",
     "output_type": "stream",
     "text": [
      "enter an integer: -9\n",
      "the number is negative\n"
     ]
    }
   ],
   "source": [
    "a = float(input('enter an integer: '))\n",
    "\n",
    "if a > 0 :\n",
    "    print('the number is positive')\n",
    "elif a < 0:\n",
    "    print('the number is negative')\n",
    "else:\n",
    "    print('the number is zero')\n"
   ]
  },
  {
   "cell_type": "markdown",
   "metadata": {},
   "source": [
    "Write a Python Program to Check if a Number is Odd or Even?"
   ]
  },
  {
   "cell_type": "code",
   "execution_count": 20,
   "metadata": {},
   "outputs": [
    {
     "name": "stdout",
     "output_type": "stream",
     "text": [
      "enter integer: 7\n",
      "number is odd\n"
     ]
    }
   ],
   "source": [
    "b = int(input('enter integer: '))\n",
    "\n",
    "if b%2 == 0:\n",
    "    print('number is even')\n",
    "else:\n",
    "    print('number is odd')\n"
   ]
  },
  {
   "cell_type": "markdown",
   "metadata": {},
   "source": [
    "Write a Python Program to Check Leap Year?"
   ]
  },
  {
   "cell_type": "code",
   "execution_count": 47,
   "metadata": {},
   "outputs": [
    {
     "name": "stdout",
     "output_type": "stream",
     "text": [
      "enter the year: 2024\n",
      "this is a leap year\n"
     ]
    }
   ],
   "source": [
    "year = int(input('enter the year: '))\n",
    "\n",
    "if year%4==0:\n",
    "    if year%100==0:\n",
    "        if year%400==0:\n",
    "            print('this is a leap year')\n",
    "        else:\n",
    "            print('this is not a leap year')\n",
    "    else: \n",
    "        print('this is a leap year')\n",
    "\n",
    "else:\n",
    "    print('this is not a leap year')"
   ]
  },
  {
   "cell_type": "markdown",
   "metadata": {},
   "source": [
    "Write a Python Program to Check Prime Number?"
   ]
  },
  {
   "cell_type": "code",
   "execution_count": 74,
   "metadata": {},
   "outputs": [
    {
     "name": "stdout",
     "output_type": "stream",
     "text": [
      "enter a integer: 51\n",
      "this is not a prime number\n"
     ]
    }
   ],
   "source": [
    "a = int(input('enter a integer: '))\n",
    "\n",
    "\n",
    "for i in range(2, int(a/2)+1):\n",
    "    if a % i == 0:\n",
    "        print('this is not a prime number')\n",
    "        break\n",
    "    elif i == int(a/2):\n",
    "        print('this is a prime number')\n",
    "    else:\n",
    "        continue\n",
    "\n"
   ]
  },
  {
   "cell_type": "markdown",
   "metadata": {},
   "source": [
    "Write a Python Program to Print all Prime Numbers in an Interval of 1-10000?"
   ]
  },
  {
   "cell_type": "code",
   "execution_count": 84,
   "metadata": {},
   "outputs": [],
   "source": [
    "def isprime(a):\n",
    "    for i in range(2, int(a/2)+1):\n",
    "        if a % i == 0:\n",
    "            return False\n",
    "            break\n",
    "        elif i == int(a/2):\n",
    "            return True\n",
    "        else:\n",
    "            continue\n",
    "\n",
    "lst=[2,3]\n",
    "for i in range(2, 10001):\n",
    "    if isprime(i):\n",
    "        lst.append(i)\n",
    "    else:\n",
    "        continue\n",
    "\n",
    "print(lst)\n"
   ]
  }
 ],
 "metadata": {
  "kernelspec": {
   "display_name": "Python [default]",
   "language": "python",
   "name": "python3"
  },
  "language_info": {
   "codemirror_mode": {
    "name": "ipython",
    "version": 3
   },
   "file_extension": ".py",
   "mimetype": "text/x-python",
   "name": "python",
   "nbconvert_exporter": "python",
   "pygments_lexer": "ipython3",
   "version": "3.5.3"
  }
 },
 "nbformat": 4,
 "nbformat_minor": 2
}
