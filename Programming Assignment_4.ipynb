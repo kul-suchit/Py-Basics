{
 "cells": [
  {
   "cell_type": "markdown",
   "metadata": {},
   "source": [
    "1. Write a Python Program to Find the Factorial of a Number?\n",
    "2. Write a Python Program to Display the multiplication Table?\n",
    "3. Write a Python Program to Print the Fibonacci sequence?\n",
    "4. Write a Python Program to Check Armstrong Number?\n",
    "5. Write a Python Program to Find Armstrong Number in an Interval?\n",
    "6. Write a Python Program to Find the Sum of Natural Numbers?"
   ]
  },
  {
   "cell_type": "markdown",
   "metadata": {},
   "source": [
    "Write a Python Program to Find the Factorial of a Number?"
   ]
  },
  {
   "cell_type": "code",
   "execution_count": 9,
   "metadata": {},
   "outputs": [],
   "source": [
    "def fact(n):\n",
    "    fact = 1\n",
    "    while n>0:\n",
    "        fact = fact * n\n",
    "        n = n-1\n",
    "    return fact"
   ]
  },
  {
   "cell_type": "markdown",
   "metadata": {},
   "source": [
    "Write a Python Program to Display the multiplication Table?"
   ]
  },
  {
   "cell_type": "code",
   "execution_count": 21,
   "metadata": {},
   "outputs": [],
   "source": [
    "def mult_tab(m, n):\n",
    "         \n",
    "    \"\"\"'m' - the table number that is requested for\n",
    "    'n' - is the upper limit of the multiplier starting with 1\n",
    "     ex: if m = 2 and n =10: \n",
    "                2 x 1 = 2 \n",
    "                2 x 2 = 4\n",
    "                .\n",
    "                .\n",
    "                .\n",
    "                2 x 10 = 20\n",
    "    \"\"\"\n",
    "    \n",
    "    \n",
    "    for i in range(1, n+1):\n",
    "        print(m, 'x', i, '=', m*i)\n",
    "   "
   ]
  },
  {
   "cell_type": "markdown",
   "metadata": {},
   "source": [
    "Write a Python Program to Print the Fibonacci sequence?"
   ]
  },
  {
   "cell_type": "code",
   "execution_count": 28,
   "metadata": {},
   "outputs": [],
   "source": [
    "def fibon(n):\n",
    "    a=0\n",
    "    b=1\n",
    "    print(\"1\")\n",
    "    for i in range(1,n+1):\n",
    "        fib = a+b\n",
    "        a = b\n",
    "        b = fib\n",
    "        print(fib)"
   ]
  },
  {
   "cell_type": "markdown",
   "metadata": {},
   "source": [
    "Write a Python Program to Check Armstrong Number?"
   ]
  },
  {
   "cell_type": "code",
   "execution_count": 42,
   "metadata": {},
   "outputs": [],
   "source": [
    "def is_armstrong(n):\n",
    "    m = n\n",
    "    arm = 0\n",
    "    while n>=1:\n",
    "        i = n%10\n",
    "        arm = arm + i**3\n",
    "        n = int(n/10)\n",
    "        \n",
    "    if m == arm:\n",
    "        return True\n",
    "    else:\n",
    "        return False\n",
    "    "
   ]
  },
  {
   "cell_type": "markdown",
   "metadata": {},
   "source": [
    "Write a Python Program to Find Armstrong Number in an Interval?"
   ]
  },
  {
   "cell_type": "code",
   "execution_count": 53,
   "metadata": {},
   "outputs": [],
   "source": [
    "def print_armstrong(m, n):\n",
    "    '''(m) and (n) are limits of the interval'''\n",
    "    for i in range(m,n+1):\n",
    "        if is_armstrong(i):\n",
    "            print(i)\n",
    "        else:\n",
    "            continue"
   ]
  },
  {
   "cell_type": "markdown",
   "metadata": {},
   "source": [
    "Write a Python Program to Find the Sum of Natural Numbers?"
   ]
  },
  {
   "cell_type": "code",
   "execution_count": 58,
   "metadata": {},
   "outputs": [],
   "source": [
    "def nat_sum(n):\n",
    "    sum=0\n",
    "    for i in range(1, n+1):\n",
    "        sum = sum+i\n",
    "    return sum"
   ]
  }
 ],
 "metadata": {
  "kernelspec": {
   "display_name": "Python [default]",
   "language": "python",
   "name": "python3"
  },
  "language_info": {
   "codemirror_mode": {
    "name": "ipython",
    "version": 3
   },
   "file_extension": ".py",
   "mimetype": "text/x-python",
   "name": "python",
   "nbconvert_exporter": "python",
   "pygments_lexer": "ipython3",
   "version": "3.5.3"
  }
 },
 "nbformat": 4,
 "nbformat_minor": 2
}
